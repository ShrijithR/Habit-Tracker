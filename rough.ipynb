{
 "cells": [
  {
   "cell_type": "code",
   "execution_count": 2,
   "metadata": {},
   "outputs": [],
   "source": [
    "import pandas as pd\n",
    "import datetime"
   ]
  },
  {
   "cell_type": "code",
   "execution_count": 13,
   "metadata": {},
   "outputs": [],
   "source": [
    "df = pd.read_csv(\"datasets\\habits_2021_test - Copy.csv\")"
   ]
  },
  {
   "cell_type": "code",
   "execution_count": 25,
   "metadata": {},
   "outputs": [
    {
     "data": {
      "text/plain": [
       "(['habits',\n",
       "  '04-01-2021',\n",
       "  '05-01-2021',\n",
       "  '06-01-2021',\n",
       "  '07-01-2021',\n",
       "  '08-01-2021',\n",
       "  '09-01-2021',\n",
       "  '10-01-2021',\n",
       "  '11-01-2021',\n",
       "  '12-01-2021',\n",
       "  '13-01-2021',\n",
       "  '14-01-2021',\n",
       "  '15-01-2021',\n",
       "  '16-01-2021',\n",
       "  '17-01-2021',\n",
       "  '18-01-2021',\n",
       "  '19-01-2021',\n",
       "  '20-01-2021',\n",
       "  '21-01-2021',\n",
       "  '22-01-2021',\n",
       "  '23-01-2021',\n",
       "  '24-01-2021',\n",
       "  '25-01-2021',\n",
       "  '26-01-2021',\n",
       "  '27-01-2021',\n",
       "  '28-01-2021',\n",
       "  '29-01-2021',\n",
       "  '30-01-2021',\n",
       "  '31-01-2021'],\n",
       " ['04-01-2021',\n",
       "  '05-01-2021',\n",
       "  '06-01-2021',\n",
       "  '07-01-2021',\n",
       "  '08-01-2021',\n",
       "  '09-01-2021',\n",
       "  '10-01-2021',\n",
       "  '11-01-2021',\n",
       "  '12-01-2021',\n",
       "  '13-01-2021',\n",
       "  '14-01-2021',\n",
       "  '15-01-2021',\n",
       "  '16-01-2021',\n",
       "  '17-01-2021',\n",
       "  '18-01-2021',\n",
       "  '19-01-2021',\n",
       "  '20-01-2021',\n",
       "  '21-01-2021',\n",
       "  '22-01-2021',\n",
       "  '23-01-2021',\n",
       "  '24-01-2021',\n",
       "  '25-01-2021',\n",
       "  '26-01-2021',\n",
       "  '27-01-2021',\n",
       "  '28-01-2021',\n",
       "  '29-01-2021',\n",
       "  '30-01-2021',\n",
       "  '31-01-2021'])"
      ]
     },
     "execution_count": 25,
     "metadata": {},
     "output_type": "execute_result"
    }
   ],
   "source": [
    "# first_column = list(df['week number'])\n",
    "# day_number_index = first_column.index('day number')\n",
    "# df.iloc[day_number_index]\n",
    "import re\n",
    "date_regex = re.compile(\"[0-9]{0,2}-[0-9]{0,2}-[0-9]{0,4}\")\n",
    "first_row = list(df.iloc[0:0])\n",
    "\n",
    "dates_list = [i for i in first_row if re.search(date_regex, i)]\n",
    "# df_list[0]\n",
    "# df_list['day number']"
   ]
  },
  {
   "cell_type": "code",
   "execution_count": null,
   "metadata": {},
   "outputs": [],
   "source": []
  }
 ],
 "metadata": {
  "interpreter": {
   "hash": "81f60014461da034a4012df24c9744791e1777d3fafe151ebd38c63171a71ed6"
  },
  "kernelspec": {
   "display_name": "Python 3.9.7 64-bit",
   "language": "python",
   "name": "python3"
  },
  "language_info": {
   "codemirror_mode": {
    "name": "ipython",
    "version": 3
   },
   "file_extension": ".py",
   "mimetype": "text/x-python",
   "name": "python",
   "nbconvert_exporter": "python",
   "pygments_lexer": "ipython3",
   "version": "3.9.7"
  },
  "orig_nbformat": 4
 },
 "nbformat": 4,
 "nbformat_minor": 2
}
